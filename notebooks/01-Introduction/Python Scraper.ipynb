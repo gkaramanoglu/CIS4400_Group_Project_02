{
 "cells": [
  {
   "cell_type": "code",
   "execution_count": null,
   "metadata": {},
   "outputs": [],
   "source": [
    "try: \n",
    "    from urllib.request import Request, urlopen # Python 3 \n",
    "except ImportError: from urllib2 import Request, urlopen # Python 2 \n",
    "\n",
    "req = Request('https://gs-api.greatschools.org/nearby-schools?lat=37.7940627&lon=-122.2680029&limit=3&distance=5') \n",
    "req.add_header('X-API-Key', 'myapikey') \n",
    "\n",
    "content = urlopen(req).read()"
   ]
  }
 ],
 "metadata": {
  "language_info": {
   "name": "python"
  },
  "orig_nbformat": 4
 },
 "nbformat": 4,
 "nbformat_minor": 2
}
